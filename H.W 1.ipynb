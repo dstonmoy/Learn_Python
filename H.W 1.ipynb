{
 "cells": [
  {
   "cell_type": "code",
   "execution_count": 3,
   "metadata": {},
   "outputs": [
    {
     "name": "stdout",
     "output_type": "stream",
     "text": [
      "140\n",
      "40\n",
      "4500\n"
     ]
    }
   ],
   "source": [
    "First = 90\n",
    "Second = 50\n",
    "print(First + Second)\n",
    "print(First - Second)\n",
    "print(First * Second)\n"
   ]
  },
  {
   "cell_type": "code",
   "execution_count": 17,
   "metadata": {},
   "outputs": [
    {
     "name": "stdout",
     "output_type": "stream",
     "text": [
      "['Ban', 3, 'Eng', 4]\n",
      "['Aus', 2, 'Ban', 3]\n",
      "[1, 'Aus', 2, 'Ban', 3, 'Eng', 4, 'Ger']\n"
     ]
    }
   ],
   "source": [
    "list_1=[1,'Aus',2,'Ban',3,'Eng',4,'Ger']\n",
    "print(list_1[3:7])\n",
    "print(list_1[1:5])\n",
    "print(list_1)"
   ]
  },
  {
   "cell_type": "code",
   "execution_count": 19,
   "metadata": {},
   "outputs": [
    {
     "name": "stdout",
     "output_type": "stream",
     "text": [
      "-1\n",
      "10\n"
     ]
    }
   ],
   "source": [
    "list_2=[2,4,6]\n",
    "list_3=[1,3,5]\n",
    "print(list_2[0]-list_3[1])\n",
    "print(list_2[0]*list_3[2])"
   ]
  },
  {
   "cell_type": "code",
   "execution_count": 23,
   "metadata": {},
   "outputs": [
    {
     "name": "stdout",
     "output_type": "stream",
     "text": [
      "16\n",
      "8\n"
     ]
    }
   ],
   "source": [
    "list_4=[1,'D',2,'I',3,'B',4,'B',5,'E',6,'N',7,'D',8,'U']\n",
    "print(len(list_4))\n",
    "print(len(list_4)//2)"
   ]
  },
  {
   "cell_type": "code",
   "execution_count": 25,
   "metadata": {},
   "outputs": [
    {
     "name": "stdout",
     "output_type": "stream",
     "text": [
      "[[1, 2], [3, 4], [5, 6]]\n",
      "3\n"
     ]
    }
   ],
   "source": [
    "list_5=[[1,2],[3,4],[5,6]]\n",
    "print(list_5)\n",
    "print(len(list_5))"
   ]
  },
  {
   "cell_type": "code",
   "execution_count": null,
   "metadata": {},
   "outputs": [],
   "source": []
  }
 ],
 "metadata": {
  "kernelspec": {
   "display_name": "Python 3",
   "language": "python",
   "name": "python3"
  },
  "language_info": {
   "codemirror_mode": {
    "name": "ipython",
    "version": 3
   },
   "file_extension": ".py",
   "mimetype": "text/x-python",
   "name": "python",
   "nbconvert_exporter": "python",
   "pygments_lexer": "ipython3",
   "version": "3.7.1"
  }
 },
 "nbformat": 4,
 "nbformat_minor": 2
}
